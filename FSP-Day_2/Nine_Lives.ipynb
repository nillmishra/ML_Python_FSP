{
 "cells": [
  {
   "cell_type": "markdown",
   "id": "cb5ff58f",
   "metadata": {},
   "source": [
    "## Nine Lives"
   ]
  },
  {
   "cell_type": "markdown",
   "id": "e5e21a16",
   "metadata": {},
   "source": [
    "### in this nefrrve shreading game, you have to guess the secret word one letter at a time. if you guess is wrong you lose a life choose your letter carefully beczuse ou only have nine lives and it's game over."
   ]
  },
  {
   "cell_type": "markdown",
   "id": "aea49256",
   "metadata": {},
   "source": [
    "#### how it work..? first you'll create a two list one to store the secrert- words and one to store the vlue, which made up of question mark. then, using the random module you.ll make a random selection from a list of secret words. next year your.ll build a loop to check the plaer's guess and also create a function to update the clue as the word slowly revereted."
   ]
  },
  {
   "cell_type": "code",
   "execution_count": 1,
   "id": "7067e3e6",
   "metadata": {},
   "outputs": [],
   "source": [
    "import random\n",
    "lives=9\n",
    "words=['pizza', 'human','money','shirt','apple','fruit']\n",
    "secret_word=random.choice(words)"
   ]
  },
  {
   "cell_type": "markdown",
   "id": "3ba33b44",
   "metadata": {},
   "source": [
    "### now make a list of clue"
   ]
  },
  {
   "cell_type": "code",
   "execution_count": 2,
   "id": "eb85df00",
   "metadata": {},
   "outputs": [],
   "source": [
    "clue=list['?????']\n",
    "heart_symbol='\\u2764'\n",
    "guesses_word_correctly=False"
   ]
  },
  {
   "cell_type": "code",
   "execution_count": 3,
   "id": "bb3192c7",
   "metadata": {},
   "outputs": [],
   "source": [
    "def update_clue(guessed_letter, secret_word, clue):\n",
    "    index=0\n",
    "    while index<len(secret_word):\n",
    "        if guessed_letter==secret_word[index]:\n",
    "            clue[index]=guessed_letter\n",
    "        index=index+1"
   ]
  },
  {
   "cell_type": "code",
   "execution_count": null,
   "id": "3e537641",
   "metadata": {},
   "outputs": [
    {
     "name": "stdout",
     "output_type": "stream",
     "text": [
      "list['?????']\n",
      "live left❤❤❤❤❤❤❤❤❤\n",
      "guess aletter of the whole lettermoney\n",
      "incorrect you loose a life\n",
      "list['?????']\n",
      "live left❤❤❤❤❤❤❤❤\n",
      "guess aletter of the whole letterpizza\n",
      "incorrect you loose a life\n",
      "list['?????']\n",
      "live left❤❤❤❤❤❤❤\n",
      "guess aletter of the whole letterapple\n",
      "incorrect you loose a life\n",
      "list['?????']\n",
      "live left❤❤❤❤❤❤\n"
     ]
    }
   ],
   "source": [
    "while lives>0:\n",
    "    print(clue)\n",
    "    print(\"live left\"+heart_symbol*lives)\n",
    "    guess=input(\"guess aletter of the whole letter\")\n",
    "    if guess==secret_word:\n",
    "        guesses_word_correctly=True\n",
    "        break\n",
    "    elif guess in secret_word:\n",
    "        update_clue(guess,secret_word,clue)\n",
    "    else:\n",
    "        print(\"incorrect you loose a life\")\n",
    "        lives=lives-1\n",
    "if guesses_word_correctly:\n",
    "    print(\"you won..! the secret word was \"+secret_word)\n",
    "else:\n",
    "    print(\"you loose the secret word was\"+secret_word)"
   ]
  }
 ],
 "metadata": {
  "kernelspec": {
   "display_name": "Python 3 (ipykernel)",
   "language": "python",
   "name": "python3"
  },
  "language_info": {
   "codemirror_mode": {
    "name": "ipython",
    "version": 3
   },
   "file_extension": ".py",
   "mimetype": "text/x-python",
   "name": "python",
   "nbconvert_exporter": "python",
   "pygments_lexer": "ipython3",
   "version": "3.11.4"
  }
 },
 "nbformat": 4,
 "nbformat_minor": 5
}
