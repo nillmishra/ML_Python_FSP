{
 "cells": [
  {
   "cell_type": "code",
   "execution_count": 1,
   "id": "b57f484b",
   "metadata": {},
   "outputs": [],
   "source": [
    "from flask import Flask\n",
    "from flask import render_template\n",
    "import joblib\n",
    "from flask import request"
   ]
  },
  {
   "cell_type": "code",
   "execution_count": 2,
   "id": "0b5d62a4",
   "metadata": {},
   "outputs": [],
   "source": [
    "app = Flask(__name__)\n",
    "model = joblib.load('tipsproject.pkl')\n",
    "\n",
    "@app.route('/')\n",
    "def hello(name=None):\n",
    "    return render_template('index.html', name=name)\n",
    "\n",
    "@app.route('/result', methods=['GET', 'POST'])\n",
    "def get_value():\n",
    "    if request.method == \"POST\":\n",
    "        tb = float(request.form.get('tb'))\n",
    "        sex = int(request.form.get('sex'))\n",
    "        smoker = int(request.form.get('smoker'))\n",
    "        day = int(request.form.get('day'))\n",
    "        time = int(request.form.get('time'))\n",
    "        size = int(request.form.get('size'))\n",
    "        predict = model.predict([[tb, sex, smoker, day, time, size]])\n",
    "        return render_template('results.html', prediction=predict[0])"
   ]
  },
  {
   "cell_type": "code",
   "execution_count": null,
   "id": "4daa2f8a",
   "metadata": {},
   "outputs": [
    {
     "name": "stdout",
     "output_type": "stream",
     "text": [
      " * Serving Flask app '__main__'\n",
      " * Debug mode: off\n"
     ]
    },
    {
     "name": "stderr",
     "output_type": "stream",
     "text": [
      "WARNING: This is a development server. Do not use it in a production deployment. Use a production WSGI server instead.\n",
      " * Running on http://127.0.0.1:5000\n",
      "Press CTRL+C to quit\n"
     ]
    }
   ],
   "source": [
    "if __name__ == \"__main__\":\n",
    "    app.run()"
   ]
  },
  {
   "cell_type": "code",
   "execution_count": null,
   "id": "eea9768d",
   "metadata": {},
   "outputs": [],
   "source": []
  }
 ],
 "metadata": {
  "kernelspec": {
   "display_name": "Python 3 (ipykernel)",
   "language": "python",
   "name": "python3"
  },
  "language_info": {
   "codemirror_mode": {
    "name": "ipython",
    "version": 3
   },
   "file_extension": ".py",
   "mimetype": "text/x-python",
   "name": "python",
   "nbconvert_exporter": "python",
   "pygments_lexer": "ipython3",
   "version": "3.11.4"
  }
 },
 "nbformat": 4,
 "nbformat_minor": 5
}
