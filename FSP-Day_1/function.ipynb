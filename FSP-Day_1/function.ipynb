{
 "cells": [
  {
   "cell_type": "markdown",
   "id": "1d52d8e1",
   "metadata": {},
   "source": [
    "## Type of function\n",
    "1. Function with no argument\n",
    "2. Funtion with required argument\n",
    "3. Function with variable length of argument\n",
    "4. Function with keyword length of argument\n",
    "5. Funtion with default agrument"
   ]
  },
  {
   "cell_type": "code",
   "execution_count": 1,
   "id": "5921a3ad",
   "metadata": {},
   "outputs": [
    {
     "name": "stdout",
     "output_type": "stream",
     "text": [
      "['False', 'None', 'True', 'and', 'as', 'assert', 'async', 'await', 'break', 'class', 'continue', 'def', 'del', 'elif', 'else', 'except', 'finally', 'for', 'from', 'global', 'if', 'import', 'in', 'is', 'lambda', 'nonlocal', 'not', 'or', 'pass', 'raise', 'return', 'try', 'while', 'with', 'yield']\n",
      "35\n"
     ]
    }
   ],
   "source": [
    "import keyword\n",
    "length=len(list(keyword.kwlist))\n",
    "print(list(keyword.kwlist))\n",
    "print(length)"
   ]
  },
  {
   "cell_type": "code",
   "execution_count": 2,
   "id": "a324ced4",
   "metadata": {},
   "outputs": [],
   "source": [
    "def print_msg():\n",
    "    \"\"\"this function is used for the printing \n",
    "    the welcome message\"\"\"\n",
    "    pass"
   ]
  },
  {
   "cell_type": "code",
   "execution_count": 3,
   "id": "4aa4ee46",
   "metadata": {},
   "outputs": [
    {
     "name": "stdout",
     "output_type": "stream",
     "text": [
      "this function is used for the printing \n",
      "    the welcome message\n"
     ]
    }
   ],
   "source": [
    "print(print_msg.__doc__)"
   ]
  },
  {
   "cell_type": "code",
   "execution_count": 5,
   "id": "95bd0bd9",
   "metadata": {},
   "outputs": [],
   "source": [
    "def print_msg():\n",
    "    \"\"\"this function is used for the printing \n",
    "    the welcome message\"\"\"\n",
    "    print(\"Hello every one..!\")"
   ]
  },
  {
   "cell_type": "code",
   "execution_count": 6,
   "id": "4eecfac4",
   "metadata": {},
   "outputs": [
    {
     "name": "stdout",
     "output_type": "stream",
     "text": [
      "Hello every one..!\n",
      "Hello every one..!\n"
     ]
    }
   ],
   "source": [
    "print_msg()\n",
    "print_msg()"
   ]
  },
  {
   "cell_type": "code",
   "execution_count": 18,
   "id": "9f6b3d4e",
   "metadata": {},
   "outputs": [],
   "source": [
    "def add(a, b):\n",
    "    print(\"Sum of A {} and B {} is {}\".format(a, b, a + b))"
   ]
  },
  {
   "cell_type": "code",
   "execution_count": 19,
   "id": "adef5bd9",
   "metadata": {},
   "outputs": [
    {
     "name": "stdout",
     "output_type": "stream",
     "text": [
      "Sum of A 10 and B 20 is 30\n"
     ]
    }
   ],
   "source": [
    "add(10,20)"
   ]
  },
  {
   "cell_type": "markdown",
   "id": "0586482f",
   "metadata": {},
   "source": [
    "## variable length of arguments"
   ]
  },
  {
   "cell_type": "code",
   "execution_count": 12,
   "id": "84ba0338",
   "metadata": {},
   "outputs": [],
   "source": [
    "#add(10,20,30,40,50,60,70,80,90)\n",
    "def add(farg,*args):\n",
    "    print(\"The formal arguments is \", farg)\n",
    "    s=0\n",
    "    for i in args:\n",
    "        s+=i\n",
    "    print(\"Sum of all number is \", farg+s)\n",
    "    return"
   ]
  },
  {
   "cell_type": "code",
   "execution_count": 13,
   "id": "d22c1ce7",
   "metadata": {},
   "outputs": [
    {
     "name": "stdout",
     "output_type": "stream",
     "text": [
      "The formal arguments is  10\n",
      "Sum of all number is  450\n"
     ]
    }
   ],
   "source": [
    "add(10,20,30,40,50,60,70,80,90)"
   ]
  },
  {
   "cell_type": "code",
   "execution_count": 21,
   "id": "237f87c1",
   "metadata": {},
   "outputs": [],
   "source": [
    "def display(farg, **kwargs):\n",
    "    print(\"Formal argument:\", farg)\n",
    "    for x, y in kwargs.items():\n",
    "        print(\"Key={0} value={1}\".format(x, y))\n",
    "\n",
    "            "
   ]
  },
  {
   "cell_type": "code",
   "execution_count": 26,
   "id": "415dbd6b",
   "metadata": {},
   "outputs": [
    {
     "name": "stdout",
     "output_type": "stream",
     "text": [
      "Formal argument: 1\n",
      "Key=rno value=10\n",
      "Key=name value=arun\n",
      "Key=grade value=600\n"
     ]
    }
   ],
   "source": [
    "display(1, rno=10, name='arun', grade=600)"
   ]
  },
  {
   "cell_type": "code",
   "execution_count": 27,
   "id": "fe3d0039",
   "metadata": {},
   "outputs": [],
   "source": [
    "def even_odd(nums):\n",
    "    if nums % 2 == 0:\n",
    "        return \"The number {0} is even\".format(nums)\n",
    "    else:\n",
    "        return \"The number {0} is odd\".format(nums)"
   ]
  },
  {
   "cell_type": "code",
   "execution_count": 28,
   "id": "9b121eae",
   "metadata": {},
   "outputs": [
    {
     "data": {
      "text/plain": [
       "'The number 23 is odd'"
      ]
     },
     "execution_count": 28,
     "metadata": {},
     "output_type": "execute_result"
    }
   ],
   "source": [
    "even_odd(23)"
   ]
  },
  {
   "cell_type": "code",
   "execution_count": 29,
   "id": "06f96154",
   "metadata": {},
   "outputs": [],
   "source": [
    "l=[15,3,7,2,4,16,23,40,35]"
   ]
  },
  {
   "cell_type": "code",
   "execution_count": 32,
   "id": "3e48412e",
   "metadata": {},
   "outputs": [
    {
     "name": "stdout",
     "output_type": "stream",
     "text": [
      "['The number 15 is odd', 'The number 3 is odd', 'The number 7 is odd', 'The number 2 is even', 'The number 4 is even', 'The number 16 is even', 'The number 23 is odd', 'The number 40 is even', 'The number 35 is odd']\n"
     ]
    }
   ],
   "source": [
    "print(list(map(even_odd, l)))"
   ]
  },
  {
   "cell_type": "markdown",
   "id": "b33ea56c",
   "metadata": {},
   "source": [
    "## create a list to generate 5 integer value randomly and the use function even_odd to check which number is even or odd "
   ]
  },
  {
   "cell_type": "code",
   "execution_count": 34,
   "id": "cd511808",
   "metadata": {},
   "outputs": [
    {
     "data": {
      "text/plain": [
       "[63, 65, 75, 58, 28]"
      ]
     },
     "execution_count": 34,
     "metadata": {},
     "output_type": "execute_result"
    }
   ],
   "source": [
    "import random\n",
    "li=list(random.randint(0,100) for _ in range(5))\n",
    "li"
   ]
  },
  {
   "cell_type": "code",
   "execution_count": 36,
   "id": "7edfb630",
   "metadata": {},
   "outputs": [
    {
     "name": "stdout",
     "output_type": "stream",
     "text": [
      "['The number 63 is odd', 'The number 65 is odd', 'The number 75 is odd', 'The number 58 is even', 'The number 28 is even']\n"
     ]
    }
   ],
   "source": [
    "print(list(map(even_odd, li)))"
   ]
  },
  {
   "cell_type": "code",
   "execution_count": null,
   "id": "acb18a2f",
   "metadata": {},
   "outputs": [],
   "source": []
  }
 ],
 "metadata": {
  "kernelspec": {
   "display_name": "Python 3 (ipykernel)",
   "language": "python",
   "name": "python3"
  },
  "language_info": {
   "codemirror_mode": {
    "name": "ipython",
    "version": 3
   },
   "file_extension": ".py",
   "mimetype": "text/x-python",
   "name": "python",
   "nbconvert_exporter": "python",
   "pygments_lexer": "ipython3",
   "version": "3.11.4"
  }
 },
 "nbformat": 4,
 "nbformat_minor": 5
}
