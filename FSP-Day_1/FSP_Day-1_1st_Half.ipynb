{
 "cells": [
  {
   "cell_type": "code",
   "execution_count": 1,
   "id": "f159c6c7",
   "metadata": {},
   "outputs": [
    {
     "name": "stdout",
     "output_type": "stream",
     "text": [
      "sleepy\n",
      "panda\n"
     ]
    }
   ],
   "source": [
    "import random\n",
    "adjectives = ['sleepy', 'slow','walk', 'run', 'wet','fatty','proud']\n",
    "nouns = ['apple', 'dragon', 'purple', 'panda','lion', 'tiger']\n",
    "len(adjectives)\n",
    "adjective = random.choice(adjectives)\n",
    "noun = random.choice(nouns)\n",
    "print(adjective)\n",
    "print(noun)"
   ]
  },
  {
   "cell_type": "code",
   "execution_count": 2,
   "id": "3c4d69e4",
   "metadata": {},
   "outputs": [
    {
     "name": "stdout",
     "output_type": "stream",
     "text": [
      "!\"#$%&'()*+,-./:;<=>?@[\\]^_`{|}~\n"
     ]
    }
   ],
   "source": [
    "import string\n",
    "print(string.punctuation)"
   ]
  },
  {
   "cell_type": "code",
   "execution_count": 3,
   "id": "c02a61e1",
   "metadata": {},
   "outputs": [
    {
     "name": "stdout",
     "output_type": "stream",
     "text": [
      "sleepypanda80\"\n"
     ]
    }
   ],
   "source": [
    "spc_char = random.choice(string.punctuation)\n",
    "num = random.randrange(0, 100)\n",
    "password = adjective + noun + str(num) + spc_char\n",
    "print(password)"
   ]
  },
  {
   "cell_type": "code",
   "execution_count": 4,
   "id": "b1b02215",
   "metadata": {},
   "outputs": [
    {
     "name": "stdout",
     "output_type": "stream",
     "text": [
      "welcome to the password picker\n",
      "Your password is :- runlion38\\\n",
      "Would you like to generate another password? Type y or n:n\n"
     ]
    }
   ],
   "source": [
    "import random\n",
    "adjectives = ['sleepy', 'slow','walk', 'run', 'wet','fatty','proud']\n",
    "nouns = ['apple', 'dragon', 'purple', 'panda','lion', 'tiger']\n",
    "spc_char = random.choice(string.punctuation)\n",
    "print('welcome to the password picker')\n",
    "while True:\n",
    "    adjective = random.choice(adjectives)\n",
    "    noun = random.choice(nouns)\n",
    "    num = random.randrange(0, 100)\n",
    "    password = adjective + noun + str(num) + spc_char\n",
    "    print(\"Your password is :-\", password)\n",
    "    response = input(\"\"\"Would you like to generate another password? Type y or n:\"\"\")\n",
    "    if response == 'n':\n",
    "        break"
   ]
  },
  {
   "cell_type": "code",
   "execution_count": 5,
   "id": "f9e6928e",
   "metadata": {},
   "outputs": [
    {
     "name": "stdout",
     "output_type": "stream",
     "text": [
      "<class 'NoneType'>\n"
     ]
    }
   ],
   "source": [
    "a = None\n",
    "print(type(a))"
   ]
  },
  {
   "cell_type": "code",
   "execution_count": 6,
   "id": "0ed831e8",
   "metadata": {},
   "outputs": [
    {
     "name": "stdout",
     "output_type": "stream",
     "text": [
      "<class 'float'>\n",
      "10.5\n",
      "(10.5+0j)\n"
     ]
    }
   ],
   "source": [
    "a = 10.5\n",
    "b = complex(a)\n",
    "print(type(a))\n",
    "print(a)\n",
    "print(b)"
   ]
  },
  {
   "cell_type": "markdown",
   "id": "6b74306a",
   "metadata": {},
   "source": [
    "### Numpy is a pyhton libreary, stands for Numerical python, it contains a collection  of tools and  technique that can be used to solve on a computer mathmetical models of problems"
   ]
  },
  {
   "cell_type": "code",
   "execution_count": 7,
   "id": "f03bbbbc",
   "metadata": {},
   "outputs": [
    {
     "name": "stdout",
     "output_type": "stream",
     "text": [
      "1.24.3\n"
     ]
    }
   ],
   "source": [
    "import numpy as np\n",
    "print(np.__version__)"
   ]
  },
  {
   "cell_type": "code",
   "execution_count": 8,
   "id": "b61a7e22",
   "metadata": {},
   "outputs": [
    {
     "name": "stdout",
     "output_type": "stream",
     "text": [
      "[1 2 3 4]\n",
      "<class 'numpy.ndarray'>\n"
     ]
    }
   ],
   "source": [
    "#printing of 1st dimenson array\n",
    "import numpy as np\n",
    "a=np.array([1,2,3,4])\n",
    "print(a)\n",
    "print(type(a))"
   ]
  },
  {
   "cell_type": "code",
   "execution_count": 9,
   "id": "21698514",
   "metadata": {},
   "outputs": [
    {
     "name": "stdout",
     "output_type": "stream",
     "text": [
      "<class 'numpy.ndarray'>\n",
      "[[1 2 3]\n",
      " [4 5 6]]\n"
     ]
    }
   ],
   "source": [
    "#printing of 2nd dimenson array\n",
    "b=np.array([[1,2,3,],[4,5,6]])\n",
    "print(type(b))\n",
    "print(b)"
   ]
  },
  {
   "cell_type": "code",
   "execution_count": 10,
   "id": "407363f8",
   "metadata": {},
   "outputs": [
    {
     "name": "stdout",
     "output_type": "stream",
     "text": [
      "<class 'numpy.ndarray'>\n",
      "[[[1 2]\n",
      "  [3 4]]\n",
      "\n",
      " [[5 6]\n",
      "  [7 8]]]\n"
     ]
    }
   ],
   "source": [
    "#printing of 3rd dimenson array\n",
    "c=np.array([[[1,2],[3,4]],[[5,6],[7,8]]])\n",
    "print(type(c))\n",
    "print(c)"
   ]
  },
  {
   "cell_type": "code",
   "execution_count": 11,
   "id": "af86d669",
   "metadata": {},
   "outputs": [
    {
     "name": "stdout",
     "output_type": "stream",
     "text": [
      "1\n",
      "2\n",
      "3\n"
     ]
    }
   ],
   "source": [
    "#dimension of the array checking \n",
    "print(a.ndim)\n",
    "print(b.ndim)\n",
    "print(c.ndim)"
   ]
  },
  {
   "cell_type": "markdown",
   "id": "e736e290",
   "metadata": {},
   "source": [
    "## Shape :- it return the shape of array in tuple, it can also be used to resize the array"
   ]
  },
  {
   "cell_type": "code",
   "execution_count": 12,
   "id": "750bdd6d",
   "metadata": {},
   "outputs": [
    {
     "name": "stdout",
     "output_type": "stream",
     "text": [
      "(4,)\n",
      "(2, 3)\n",
      "(2, 2, 2)\n"
     ]
    }
   ],
   "source": [
    "print(a.shape)\n",
    "print(b.shape)\n",
    "print(c.shape)"
   ]
  },
  {
   "cell_type": "markdown",
   "id": "fb4dd535",
   "metadata": {},
   "source": [
    "## Len:- it return the len of the array"
   ]
  },
  {
   "cell_type": "code",
   "execution_count": 13,
   "id": "37a7c5b2",
   "metadata": {},
   "outputs": [
    {
     "name": "stdout",
     "output_type": "stream",
     "text": [
      "4\n",
      "2\n",
      "2\n"
     ]
    }
   ],
   "source": [
    "print(len(a))\n",
    "print(len(b))\n",
    "print(len(c))"
   ]
  },
  {
   "cell_type": "markdown",
   "id": "6031af93",
   "metadata": {},
   "source": [
    "## dtype = it return the data types of array "
   ]
  },
  {
   "cell_type": "code",
   "execution_count": 14,
   "id": "01eae50f",
   "metadata": {},
   "outputs": [
    {
     "name": "stdout",
     "output_type": "stream",
     "text": [
      "int32\n",
      "int32\n",
      "int32\n",
      "float64\n"
     ]
    }
   ],
   "source": [
    "d=np.array([1,2,3,4], dtype='float')\n",
    "print(a.dtype)\n",
    "print(b.dtype)\n",
    "print(c.dtype)\n",
    "print(d.dtype)\n"
   ]
  },
  {
   "cell_type": "code",
   "execution_count": 15,
   "id": "15dc70bc",
   "metadata": {},
   "outputs": [
    {
     "name": "stdout",
     "output_type": "stream",
     "text": [
      "int32\n",
      "int32\n",
      "int32\n",
      "complex128\n",
      "[1.+0.j 2.+0.j 3.+0.j 4.+0.j]\n"
     ]
    }
   ],
   "source": [
    "d=np.array([1,2,3,4], dtype='complex')\n",
    "print(a.dtype)\n",
    "print(b.dtype)\n",
    "print(c.dtype)\n",
    "print(d.dtype)\n",
    "print(d)"
   ]
  },
  {
   "cell_type": "markdown",
   "id": "166be299",
   "metadata": {},
   "source": [
    "### Size:- It return the total numbetrr of elements inside the array"
   ]
  },
  {
   "cell_type": "code",
   "execution_count": 16,
   "id": "9af840ad",
   "metadata": {},
   "outputs": [
    {
     "name": "stdout",
     "output_type": "stream",
     "text": [
      "4\n",
      "6\n",
      "8\n"
     ]
    }
   ],
   "source": [
    "print(a.size)\n",
    "print(b.size)\n",
    "print(c.size)"
   ]
  },
  {
   "cell_type": "markdown",
   "id": "695e5121",
   "metadata": {},
   "source": [
    "## itemsize :- it return the each element of array in bytes size"
   ]
  },
  {
   "cell_type": "code",
   "execution_count": 17,
   "id": "c50d5013",
   "metadata": {},
   "outputs": [
    {
     "name": "stdout",
     "output_type": "stream",
     "text": [
      "4\n",
      "4\n",
      "4\n",
      "16\n"
     ]
    }
   ],
   "source": [
    "print(a.itemsize)\n",
    "print(b.itemsize)\n",
    "print(c.itemsize)\n",
    "print(d.itemsize)\n"
   ]
  },
  {
   "cell_type": "markdown",
   "id": "d395229e",
   "metadata": {},
   "source": [
    "## Why using numpy in place of list"
   ]
  },
  {
   "cell_type": "code",
   "execution_count": 18,
   "id": "5a2fd6e1",
   "metadata": {},
   "outputs": [
    {
     "name": "stdout",
     "output_type": "stream",
     "text": [
      "12.8 µs ± 2.41 µs per loop (mean ± std. dev. of 7 runs, 100,000 loops each)\n"
     ]
    }
   ],
   "source": [
    "#creating of the cube number from 1 to 100\n",
    "%timeit cube=[i**3 for i in range(100)]"
   ]
  },
  {
   "cell_type": "code",
   "execution_count": 19,
   "id": "304eac06",
   "metadata": {},
   "outputs": [
    {
     "name": "stdout",
     "output_type": "stream",
     "text": [
      "1.89 µs ± 48.7 ns per loop (mean ± std. dev. of 7 runs, 1,000,000 loops each)\n"
     ]
    }
   ],
   "source": [
    "num=np.arange(100)\n",
    "%timeit num**3"
   ]
  },
  {
   "cell_type": "code",
   "execution_count": 20,
   "id": "d22ff811",
   "metadata": {},
   "outputs": [
    {
     "name": "stdout",
     "output_type": "stream",
     "text": [
      "Memory space in list 92000\n"
     ]
    }
   ],
   "source": [
    "#checking of the space\n",
    "import sys\n",
    "cube=[i**3 for i in range(100)]\n",
    "print(\"Memory space in list\", sys.getsizeof(cube)*len(cube))"
   ]
  },
  {
   "cell_type": "code",
   "execution_count": 21,
   "id": "e433caee",
   "metadata": {},
   "outputs": [
    {
     "name": "stdout",
     "output_type": "stream",
     "text": [
      "Memory allocated in numpy = 400\n"
     ]
    }
   ],
   "source": [
    "num=np.arange(100)\n",
    "cube=num**3\n",
    "print(\"Memory allocated in numpy =\", num.size*cube.itemsize)"
   ]
  },
  {
   "cell_type": "markdown",
   "id": "cdb01d75",
   "metadata": {},
   "source": [
    "## Array creation using ones and zeros\n",
    "1. numpy .empty:- return a neww array of given shape without initlizing it "
   ]
  },
  {
   "cell_type": "code",
   "execution_count": 22,
   "id": "bf77a1c5",
   "metadata": {},
   "outputs": [
    {
     "name": "stdout",
     "output_type": "stream",
     "text": [
      "[[6.23042070e-307 4.67296746e-307 1.69121096e-306]\n",
      " [1.27945906e-307 1.89146896e-307 7.56571288e-307]\n",
      " [3.11525958e-307 1.24610723e-306 1.27946585e-307]]\n"
     ]
    }
   ],
   "source": [
    "emp=np.empty((3,3))\n",
    "print(emp)"
   ]
  },
  {
   "cell_type": "markdown",
   "id": "233c62ca",
   "metadata": {},
   "source": [
    "## numpy.zeros:- return a new array of given shapes and type filled with zero"
   ]
  },
  {
   "cell_type": "code",
   "execution_count": 23,
   "id": "73f0c435",
   "metadata": {},
   "outputs": [
    {
     "name": "stdout",
     "output_type": "stream",
     "text": [
      "[[0. 0. 0. 0. 0.]\n",
      " [0. 0. 0. 0. 0.]\n",
      " [0. 0. 0. 0. 0.]\n",
      " [0. 0. 0. 0. 0.]\n",
      " [0. 0. 0. 0. 0.]]\n"
     ]
    }
   ],
   "source": [
    "z=np.zeros(shape=(5,5))\n",
    "print(z)"
   ]
  },
  {
   "cell_type": "markdown",
   "id": "efd1545d",
   "metadata": {},
   "source": [
    "## np.ones it return a new array of given shape with 1 filling"
   ]
  },
  {
   "cell_type": "code",
   "execution_count": 24,
   "id": "3f67e5bc",
   "metadata": {},
   "outputs": [
    {
     "name": "stdout",
     "output_type": "stream",
     "text": [
      "[[1. 1. 1. 1.]\n",
      " [1. 1. 1. 1.]\n",
      " [1. 1. 1. 1.]\n",
      " [1. 1. 1. 1.]]\n"
     ]
    }
   ],
   "source": [
    "o=np.ones((4,4), dtype = 'float32')\n",
    "print(o)"
   ]
  },
  {
   "cell_type": "markdown",
   "id": "6299cff4",
   "metadata": {},
   "source": [
    "### np.eye :- it return 2D array with one on the digonal and zeros elsewhere it is also called as diagonal matrix"
   ]
  },
  {
   "cell_type": "markdown",
   "id": "e955d218",
   "metadata": {},
   "source": [
    "i= np.eye((4),dtype=np.uint(16))\n",
    "print(i)"
   ]
  },
  {
   "cell_type": "markdown",
   "id": "7b638212",
   "metadata": {},
   "source": [
    "### np.full it return a new array of given shape and type filled with fill_value"
   ]
  },
  {
   "cell_type": "code",
   "execution_count": 25,
   "id": "0f62a79a",
   "metadata": {},
   "outputs": [
    {
     "name": "stdout",
     "output_type": "stream",
     "text": [
      "[[5. 5. 5. 5.]\n",
      " [5. 5. 5. 5.]\n",
      " [5. 5. 5. 5.]\n",
      " [5. 5. 5. 5.]]\n"
     ]
    }
   ],
   "source": [
    "f=np.full((4,4), fill_value=5, dtype ='float32')\n",
    "print(f)"
   ]
  },
  {
   "cell_type": "markdown",
   "id": "65924151",
   "metadata": {},
   "source": [
    "# array creatiion using numerical range"
   ]
  },
  {
   "cell_type": "code",
   "execution_count": 26,
   "id": "35381b74",
   "metadata": {},
   "outputs": [
    {
     "name": "stdout",
     "output_type": "stream",
     "text": [
      "Help on built-in function arange in module numpy:\n",
      "\n",
      "arange(...)\n",
      "    arange([start,] stop[, step,], dtype=None, *, like=None)\n",
      "    \n",
      "    Return evenly spaced values within a given interval.\n",
      "    \n",
      "    ``arange`` can be called with a varying number of positional arguments:\n",
      "    \n",
      "    * ``arange(stop)``: Values are generated within the half-open interval\n",
      "      ``[0, stop)`` (in other words, the interval including `start` but\n",
      "      excluding `stop`).\n",
      "    * ``arange(start, stop)``: Values are generated within the half-open\n",
      "      interval ``[start, stop)``.\n",
      "    * ``arange(start, stop, step)`` Values are generated within the half-open\n",
      "      interval ``[start, stop)``, with spacing between values given by\n",
      "      ``step``.\n",
      "    \n",
      "    For integer arguments the function is roughly equivalent to the Python\n",
      "    built-in :py:class:`range`, but returns an ndarray rather than a ``range``\n",
      "    instance.\n",
      "    \n",
      "    When using a non-integer step, such as 0.1, it is often better to use\n",
      "    `numpy.linspace`.\n",
      "    \n",
      "    See the Warning sections below for more information.\n",
      "    \n",
      "    Parameters\n",
      "    ----------\n",
      "    start : integer or real, optional\n",
      "        Start of interval.  The interval includes this value.  The default\n",
      "        start value is 0.\n",
      "    stop : integer or real\n",
      "        End of interval.  The interval does not include this value, except\n",
      "        in some cases where `step` is not an integer and floating point\n",
      "        round-off affects the length of `out`.\n",
      "    step : integer or real, optional\n",
      "        Spacing between values.  For any output `out`, this is the distance\n",
      "        between two adjacent values, ``out[i+1] - out[i]``.  The default\n",
      "        step size is 1.  If `step` is specified as a position argument,\n",
      "        `start` must also be given.\n",
      "    dtype : dtype, optional\n",
      "        The type of the output array.  If `dtype` is not given, infer the data\n",
      "        type from the other input arguments.\n",
      "    like : array_like, optional\n",
      "        Reference object to allow the creation of arrays which are not\n",
      "        NumPy arrays. If an array-like passed in as ``like`` supports\n",
      "        the ``__array_function__`` protocol, the result will be defined\n",
      "        by it. In this case, it ensures the creation of an array object\n",
      "        compatible with that passed in via this argument.\n",
      "    \n",
      "        .. versionadded:: 1.20.0\n",
      "    \n",
      "    Returns\n",
      "    -------\n",
      "    arange : ndarray\n",
      "        Array of evenly spaced values.\n",
      "    \n",
      "        For floating point arguments, the length of the result is\n",
      "        ``ceil((stop - start)/step)``.  Because of floating point overflow,\n",
      "        this rule may result in the last element of `out` being greater\n",
      "        than `stop`.\n",
      "    \n",
      "    Warnings\n",
      "    --------\n",
      "    The length of the output might not be numerically stable.\n",
      "    \n",
      "    Another stability issue is due to the internal implementation of\n",
      "    `numpy.arange`.\n",
      "    The actual step value used to populate the array is\n",
      "    ``dtype(start + step) - dtype(start)`` and not `step`. Precision loss\n",
      "    can occur here, due to casting or due to using floating points when\n",
      "    `start` is much larger than `step`. This can lead to unexpected\n",
      "    behaviour. For example::\n",
      "    \n",
      "      >>> np.arange(0, 5, 0.5, dtype=int)\n",
      "      array([0, 0, 0, 0, 0, 0, 0, 0, 0, 0])\n",
      "      >>> np.arange(-3, 3, 0.5, dtype=int)\n",
      "      array([-3, -2, -1,  0,  1,  2,  3,  4,  5,  6,  7,  8])\n",
      "    \n",
      "    In such cases, the use of `numpy.linspace` should be preferred.\n",
      "    \n",
      "    The built-in :py:class:`range` generates :std:doc:`Python built-in integers\n",
      "    that have arbitrary size <python:c-api/long>`, while `numpy.arange`\n",
      "    produces `numpy.int32` or `numpy.int64` numbers. This may result in\n",
      "    incorrect results for large integer values::\n",
      "    \n",
      "      >>> power = 40\n",
      "      >>> modulo = 10000\n",
      "      >>> x1 = [(n ** power) % modulo for n in range(8)]\n",
      "      >>> x2 = [(n ** power) % modulo for n in np.arange(8)]\n",
      "      >>> print(x1)\n",
      "      [0, 1, 7776, 8801, 6176, 625, 6576, 4001]  # correct\n",
      "      >>> print(x2)\n",
      "      [0, 1, 7776, 7185, 0, 5969, 4816, 3361]  # incorrect\n",
      "    \n",
      "    See Also\n",
      "    --------\n",
      "    numpy.linspace : Evenly spaced numbers with careful handling of endpoints.\n",
      "    numpy.ogrid: Arrays of evenly spaced numbers in N-dimensions.\n",
      "    numpy.mgrid: Grid-shaped arrays of evenly spaced numbers in N-dimensions.\n",
      "    :ref:`how-to-partition`\n",
      "    \n",
      "    Examples\n",
      "    --------\n",
      "    >>> np.arange(3)\n",
      "    array([0, 1, 2])\n",
      "    >>> np.arange(3.0)\n",
      "    array([ 0.,  1.,  2.])\n",
      "    >>> np.arange(3,7)\n",
      "    array([3, 4, 5, 6])\n",
      "    >>> np.arange(3,7,2)\n",
      "    array([3, 5])\n",
      "\n"
     ]
    }
   ],
   "source": [
    "help(np.arange)"
   ]
  },
  {
   "cell_type": "code",
   "execution_count": 27,
   "id": "84f6ef35",
   "metadata": {},
   "outputs": [
    {
     "name": "stdout",
     "output_type": "stream",
     "text": [
      "[ 1  2  3  4  5  6  7  8  9 10]\n"
     ]
    }
   ],
   "source": [
    "a = np.arange(1,11)\n",
    "print(a)"
   ]
  },
  {
   "cell_type": "markdown",
   "id": "ff277f12",
   "metadata": {},
   "source": [
    "## using of reshape it return new array with new shape"
   ]
  },
  {
   "cell_type": "code",
   "execution_count": 28,
   "id": "9144657f",
   "metadata": {},
   "outputs": [
    {
     "name": "stdout",
     "output_type": "stream",
     "text": [
      "[[ 1  2]\n",
      " [ 3  4]\n",
      " [ 5  6]\n",
      " [ 7  8]\n",
      " [ 9 10]]\n"
     ]
    }
   ],
   "source": [
    "n=np.reshape(a,(5,2))\n",
    "print(n)"
   ]
  },
  {
   "cell_type": "markdown",
   "id": "8a4fcc71",
   "metadata": {},
   "source": [
    "## write a program to generate sin cos tan by using numpy inbuilt sin, cos, tan function and the value range will be lies between 0 to 4 multiply Pi with step of 0.1"
   ]
  },
  {
   "cell_type": "code",
   "execution_count": 29,
   "id": "9c39f621",
   "metadata": {},
   "outputs": [],
   "source": [
    "x=np.arange(0,np.pi*4, 0.1)\n",
    "y1 = np.sin(x)\n",
    "y2 = np.cos(x)\n",
    "y3 = np.tan(x)"
   ]
  },
  {
   "cell_type": "code",
   "execution_count": 33,
   "id": "e65eda62",
   "metadata": {},
   "outputs": [
    {
     "data": {
      "image/png": "[encoded data removed]",
      "text/plain": [
       "<Figure size 1000x400 with 3 Axes>"
      ]
     },
     "metadata": {},
     "output_type": "display_data"
    }
   ],
   "source": [
    "import matplotlib.pyplot as plt\n",
    "plt.figure(figsize = (10,4))\n",
    "plt.subplot(1,3,1)\n",
    "plt.plot(x,y1)\n",
    "plt.title('sinx')\n",
    "plt.subplot(1,3,2)\n",
    "plt.plot(x,y2)\n",
    "plt.title('cosx')\n",
    "plt.subplot(1,3,3)\n",
    "plt.plot(x,y3)\n",
    "plt.title('tanx')\n",
    "plt.show()"
   ]
  },
  {
   "cell_type": "markdown",
   "id": "cc070acf",
   "metadata": {},
   "source": [
    "## fjgwehs"
   ]
  },
  {
   "cell_type": "code",
   "execution_count": 30,
   "id": "b16236e1",
   "metadata": {},
   "outputs": [
    {
     "name": "stdout",
     "output_type": "stream",
     "text": [
      "Help on function linspace in module numpy:\n",
      "\n",
      "linspace(start, stop, num=50, endpoint=True, retstep=False, dtype=None, axis=0)\n",
      "    Return evenly spaced numbers over a specified interval.\n",
      "    \n",
      "    Returns `num` evenly spaced samples, calculated over the\n",
      "    interval [`start`, `stop`].\n",
      "    \n",
      "    The endpoint of the interval can optionally be excluded.\n",
      "    \n",
      "    .. versionchanged:: 1.16.0\n",
      "        Non-scalar `start` and `stop` are now supported.\n",
      "    \n",
      "    .. versionchanged:: 1.20.0\n",
      "        Values are rounded towards ``-inf`` instead of ``0`` when an\n",
      "        integer ``dtype`` is specified. The old behavior can\n",
      "        still be obtained with ``np.linspace(start, stop, num).astype(int)``\n",
      "    \n",
      "    Parameters\n",
      "    ----------\n",
      "    start : array_like\n",
      "        The starting value of the sequence.\n",
      "    stop : array_like\n",
      "        The end value of the sequence, unless `endpoint` is set to False.\n",
      "        In that case, the sequence consists of all but the last of ``num + 1``\n",
      "        evenly spaced samples, so that `stop` is excluded.  Note that the step\n",
      "        size changes when `endpoint` is False.\n",
      "    num : int, optional\n",
      "        Number of samples to generate. Default is 50. Must be non-negative.\n",
      "    endpoint : bool, optional\n",
      "        If True, `stop` is the last sample. Otherwise, it is not included.\n",
      "        Default is True.\n",
      "    retstep : bool, optional\n",
      "        If True, return (`samples`, `step`), where `step` is the spacing\n",
      "        between samples.\n",
      "    dtype : dtype, optional\n",
      "        The type of the output array.  If `dtype` is not given, the data type\n",
      "        is inferred from `start` and `stop`. The inferred dtype will never be\n",
      "        an integer; `float` is chosen even if the arguments would produce an\n",
      "        array of integers.\n",
      "    \n",
      "        .. versionadded:: 1.9.0\n",
      "    \n",
      "    axis : int, optional\n",
      "        The axis in the result to store the samples.  Relevant only if start\n",
      "        or stop are array-like.  By default (0), the samples will be along a\n",
      "        new axis inserted at the beginning. Use -1 to get an axis at the end.\n",
      "    \n",
      "        .. versionadded:: 1.16.0\n",
      "    \n",
      "    Returns\n",
      "    -------\n",
      "    samples : ndarray\n",
      "        There are `num` equally spaced samples in the closed interval\n",
      "        ``[start, stop]`` or the half-open interval ``[start, stop)``\n",
      "        (depending on whether `endpoint` is True or False).\n",
      "    step : float, optional\n",
      "        Only returned if `retstep` is True\n",
      "    \n",
      "        Size of spacing between samples.\n",
      "    \n",
      "    \n",
      "    See Also\n",
      "    --------\n",
      "    arange : Similar to `linspace`, but uses a step size (instead of the\n",
      "             number of samples).\n",
      "    geomspace : Similar to `linspace`, but with numbers spaced evenly on a log\n",
      "                scale (a geometric progression).\n",
      "    logspace : Similar to `geomspace`, but with the end points specified as\n",
      "               logarithms.\n",
      "    :ref:`how-to-partition`\n",
      "    \n",
      "    Examples\n",
      "    --------\n",
      "    >>> np.linspace(2.0, 3.0, num=5)\n",
      "    array([2.  , 2.25, 2.5 , 2.75, 3.  ])\n",
      "    >>> np.linspace(2.0, 3.0, num=5, endpoint=False)\n",
      "    array([2. ,  2.2,  2.4,  2.6,  2.8])\n",
      "    >>> np.linspace(2.0, 3.0, num=5, retstep=True)\n",
      "    (array([2.  ,  2.25,  2.5 ,  2.75,  3.  ]), 0.25)\n",
      "    \n",
      "    Graphical illustration:\n",
      "    \n",
      "    >>> import matplotlib.pyplot as plt\n",
      "    >>> N = 8\n",
      "    >>> y = np.zeros(N)\n",
      "    >>> x1 = np.linspace(0, 10, N, endpoint=True)\n",
      "    >>> x2 = np.linspace(0, 10, N, endpoint=False)\n",
      "    >>> plt.plot(x1, y, 'o')\n",
      "    [<matplotlib.lines.Line2D object at 0x...>]\n",
      "    >>> plt.plot(x2, y + 0.5, 'o')\n",
      "    [<matplotlib.lines.Line2D object at 0x...>]\n",
      "    >>> plt.ylim([-0.5, 1])\n",
      "    (-0.5, 1)\n",
      "    >>> plt.show()\n",
      "\n"
     ]
    }
   ],
   "source": [
    "help(np.linspace)"
   ]
  },
  {
   "cell_type": "code",
   "execution_count": 31,
   "id": "b05562e2",
   "metadata": {},
   "outputs": [
    {
     "name": "stdout",
     "output_type": "stream",
     "text": [
      "50\n"
     ]
    }
   ],
   "source": [
    "a=np.linspace(1,5)\n",
    "print(len(a))"
   ]
  },
  {
   "cell_type": "code",
   "execution_count": 32,
   "id": "5906d37e",
   "metadata": {},
   "outputs": [
    {
     "name": "stdout",
     "output_type": "stream",
     "text": [
      "2\n"
     ]
    }
   ],
   "source": [
    "a=np.linspace(1,5,num=10,retstep=True)\n",
    "print(len(a))"
   ]
  },
  {
   "cell_type": "markdown",
   "id": "d4ce5c48",
   "metadata": {},
   "source": [
    "## type conversion of list into array"
   ]
  },
  {
   "cell_type": "code",
   "execution_count": 35,
   "id": "b2f35b0d",
   "metadata": {},
   "outputs": [
    {
     "name": "stdout",
     "output_type": "stream",
     "text": [
      "<class 'list'>\n",
      "1.0\n",
      "<class 'numpy.ndarray'>\n"
     ]
    }
   ],
   "source": [
    "l =[1,2,3,4,5,6,7]\n",
    "print(type(l))\n",
    "b=np.asarray(1,dtype='float32')\n",
    "print(b)\n",
    "print(type(b))"
   ]
  },
  {
   "cell_type": "code",
   "execution_count": 38,
   "id": "6ea69c54",
   "metadata": {},
   "outputs": [
    {
     "data": {
      "text/plain": [
       "array([[4, 4, 4],\n",
       "       [4, 4, 4],\n",
       "       [4, 4, 4]])"
      ]
     },
     "execution_count": 38,
     "metadata": {},
     "output_type": "execute_result"
    }
   ],
   "source": [
    "a=np.full(shape=(3,3),fill_value=4)\n",
    "a"
   ]
  },
  {
   "cell_type": "markdown",
   "id": "1b730b28",
   "metadata": {},
   "source": [
    "## copy of array into another varaialble"
   ]
  },
  {
   "cell_type": "code",
   "execution_count": 39,
   "id": "5a43edb8",
   "metadata": {},
   "outputs": [
    {
     "data": {
      "text/plain": [
       "array([[4, 4, 4],\n",
       "       [4, 4, 4],\n",
       "       [4, 4, 4]])"
      ]
     },
     "execution_count": 39,
     "metadata": {},
     "output_type": "execute_result"
    }
   ],
   "source": [
    "b=np.copy(a)\n",
    "b"
   ]
  },
  {
   "cell_type": "markdown",
   "id": "3f26ca00",
   "metadata": {},
   "source": [
    "## diffrent data type in numpy"
   ]
  },
  {
   "cell_type": "code",
   "execution_count": 40,
   "id": "fffb5173",
   "metadata": {},
   "outputs": [],
   "source": [
    "#creating of the unsigned integer\n",
    "b=np.ones((3,3),dtype=np.uint16)"
   ]
  },
  {
   "cell_type": "code",
   "execution_count": 41,
   "id": "d611fd28",
   "metadata": {},
   "outputs": [
    {
     "data": {
      "text/plain": [
       "array([[1, 1, 1],\n",
       "       [1, 1, 1],\n",
       "       [1, 1, 1]], dtype=uint16)"
      ]
     },
     "execution_count": 41,
     "metadata": {},
     "output_type": "execute_result"
    }
   ],
   "source": [
    "b"
   ]
  },
  {
   "cell_type": "code",
   "execution_count": 42,
   "id": "06f60f87",
   "metadata": {},
   "outputs": [
    {
     "name": "stdout",
     "output_type": "stream",
     "text": [
      "[ True False]\n",
      "bool\n"
     ]
    }
   ],
   "source": [
    "#bootlean form\n",
    "d=np.array([True,False])\n",
    "print(d)\n",
    "print(d.dtype)"
   ]
  },
  {
   "cell_type": "code",
   "execution_count": 43,
   "id": "976d2526",
   "metadata": {},
   "outputs": [
    {
     "data": {
      "text/plain": [
       "array([ 1,  2,  3,  4,  5,  6,  7,  8,  9, 10])"
      ]
     },
     "execution_count": 43,
     "metadata": {},
     "output_type": "execute_result"
    }
   ],
   "source": [
    "a=np.arange(1,11)\n",
    "a"
   ]
  },
  {
   "cell_type": "code",
   "execution_count": 44,
   "id": "3d64c5f3",
   "metadata": {},
   "outputs": [
    {
     "name": "stdout",
     "output_type": "stream",
     "text": [
      "The value of the index 5 is a:-  5\n"
     ]
    }
   ],
   "source": [
    "print('The value of the index 5 is a:- ', a[4])"
   ]
  },
  {
   "cell_type": "code",
   "execution_count": 46,
   "id": "067be047",
   "metadata": {},
   "outputs": [
    {
     "data": {
      "text/plain": [
       "array([[1, 2, 3],\n",
       "       [4, 5, 6]])"
      ]
     },
     "execution_count": 46,
     "metadata": {},
     "output_type": "execute_result"
    }
   ],
   "source": [
    "b=np.array([[1,2,3],[4,5,6]])\n",
    "b"
   ]
  },
  {
   "cell_type": "code",
   "execution_count": 48,
   "id": "6343eca0",
   "metadata": {},
   "outputs": [
    {
     "name": "stdout",
     "output_type": "stream",
     "text": [
      "3\n",
      "5\n"
     ]
    }
   ],
   "source": [
    "print(b[0,2])\n",
    "print(b[1,1])"
   ]
  },
  {
   "cell_type": "code",
   "execution_count": 50,
   "id": "c1daeca9",
   "metadata": {},
   "outputs": [
    {
     "data": {
      "text/plain": [
       "array([[ 1, 10,  3],\n",
       "       [ 4,  5,  6]])"
      ]
     },
     "execution_count": 50,
     "metadata": {},
     "output_type": "execute_result"
    }
   ],
   "source": [
    "b[0,1]=10\n",
    "b"
   ]
  },
  {
   "cell_type": "code",
   "execution_count": 51,
   "id": "1e135458",
   "metadata": {},
   "outputs": [
    {
     "data": {
      "text/plain": [
       "array([[  1,  10,   3],\n",
       "       [  4,   5, 100]])"
      ]
     },
     "execution_count": 51,
     "metadata": {},
     "output_type": "execute_result"
    }
   ],
   "source": [
    "b[1,2]=100\n",
    "b"
   ]
  },
  {
   "cell_type": "code",
   "execution_count": null,
   "id": "d51a2667",
   "metadata": {},
   "outputs": [],
   "source": []
  }
 ],
 "metadata": {
  "kernelspec": {
   "display_name": "Python 3 (ipykernel)",
   "language": "python",
   "name": "python3"
  },
  "language_info": {
   "codemirror_mode": {
    "name": "ipython",
    "version": 3
   },
   "file_extension": ".py",
   "mimetype": "text/x-python",
   "name": "python",
   "nbconvert_exporter": "python",
   "pygments_lexer": "ipython3",
   "version": "3.11.4"
  }
 },
 "nbformat": 4,
 "nbformat_minor": 5
}
